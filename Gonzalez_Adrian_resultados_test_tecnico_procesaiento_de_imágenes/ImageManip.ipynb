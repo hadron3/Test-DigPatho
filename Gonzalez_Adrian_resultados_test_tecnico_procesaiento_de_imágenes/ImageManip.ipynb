{
 "cells": [
  {
   "cell_type": "code",
   "execution_count": null,
   "metadata": {},
   "outputs": [],
   "source": [
    "import matplotlib.pyplot as plt\n",
    "%matplotlib inline\n",
    "import numpy as np\n",
    "import cv2\n",
    "\n",
    "img = cv2.imread(r'Test1.jpg')[:,:,::-1]\n",
    "plt.imshow(img)\n",
    "plt.show()"
   ]
  },
  {
   "cell_type": "code",
   "execution_count": null,
   "metadata": {},
   "outputs": [],
   "source": [
    "############\n",
    "## Resize ##\n",
    "############\n",
    "image = cv2.resize(img, (1024, 1024))\n",
    "plt.imshow(image)\n",
    "plt.show()"
   ]
  },
  {
   "cell_type": "code",
   "execution_count": null,
   "metadata": {},
   "outputs": [],
   "source": [
    "############\n",
    "## Split  ##\n",
    "############\n",
    "\n",
    "# split the image qually into its four quadrants\n",
    "width, height, num_channels = img.shape\n",
    "img_q1 = img[:width//2,:height//2]\n",
    "img_q2 = img[:width//2, height//2:]\n",
    "img_q3 = img[width//2:, :height//2]\n",
    "img_q4= img[width//2:, height//2:]\n",
    " \n",
    "plt.subplots(2, 2, sharex=True, sharey=True)\n",
    "plt.subplot(2, 2, 1)\n",
    "plt.imshow(img_q1)\n",
    "plt.subplot(2, 2, 2)\n",
    "plt.imshow(img_q2)\n",
    "plt.subplot(2, 2, 3)\n",
    "plt.imshow(img_q3)\n",
    "plt.subplot(2, 2, 4)\n",
    "plt.imshow(img_q4)\n",
    "plt.tight_layout()\n",
    "plt.show()"
   ]
  },
  {
   "cell_type": "code",
   "execution_count": null,
   "metadata": {},
   "outputs": [],
   "source": [
    "##################\n",
    "## Ecualization ##\n",
    "##################\n",
    "\n",
    "# We split the image into its color channels and then equalize each separately\n",
    "\n",
    "# Define channel names\n",
    "channel_names = ['Reds', 'Greens', 'Blues']\n",
    "\n",
    "# Create subplots with 3 rows and 2 columns\n",
    "fig, axes = plt.subplots(4, 2, figsize=(10, 15))\n",
    "\n",
    "# List to store equalized images\n",
    "eq = []\n",
    "\n",
    "for i in range(3):\n",
    "    # Original Channel\n",
    "    ax_orig = axes[i, 0]\n",
    "    ax_orig.imshow(img[:, :, i], cmap=channel_names[i])\n",
    "    ax_orig.set_title('Original')\n",
    "    ax_orig.axis('off')  # Hide axis ticks\n",
    "    \n",
    "    # Equalized Channel\n",
    "    eq_img = cv2.equalizeHist(img[:, :, i])\n",
    "    eq.append(eq_img)\n",
    "    ax_eq = axes[i, 1]\n",
    "    ax_eq.imshow(eq_img, cmap=channel_names[i])\n",
    "    ax_eq.set_title('Equalized')\n",
    "    ax_eq.axis('off')  # Hide axis ticks\n",
    "    \n",
    "    # Add text annotation to the left of each row\n",
    "    fig.text(0.45, 0.9 -i*0.2, f'{channel_names[i]} Channel', fontsize=12, va='center')\n",
    "# Composition of the three channels\n",
    "# Original Total\n",
    "ax_orig = axes[3, 0]\n",
    "ax_orig.imshow(img)\n",
    "ax_orig.set_title('Original')\n",
    "ax_orig.axis('off')  # Hide axis ticks\n",
    "# Equalized Total\n",
    "ax_eq = axes[3, 1]\n",
    "ax_eq.imshow(np.array(eq).transpose(1,2,0))\n",
    "ax_eq.set_title('Equalized')\n",
    "ax_eq.axis('off')  # Hide axis ticks\n",
    "# Add text annotation to the left of each row\n",
    "fig.text(0.45, 0.3, f'Total image', fontsize=12, va='center')\n",
    "plt.show()"
   ]
  },
  {
   "cell_type": "code",
   "execution_count": null,
   "metadata": {},
   "outputs": [],
   "source": [
    "###############################\n",
    "## Binary Image Manipulation ##\n",
    "###############################\n",
    "\n",
    "# Given that:\n",
    "# - We need to count cells that in many cases touch each other\n",
    "# - We have been told to apply a morphological opening operation\n",
    "\n",
    "# Load the image and mask.\n",
    "mask = cv2.imread(r'MASK.tif', cv2.IMREAD_GRAYSCALE)\n",
    "plt.imshow(mask,cmap='gray')"
   ]
  },
  {
   "cell_type": "code",
   "execution_count": null,
   "metadata": {},
   "outputs": [],
   "source": [
    "# Apply a morphological opening operation to then remove noise from the boundaries\n",
    "kernel = np.ones((3,3),np.uint8)\n",
    "opening = cv2.morphologyEx(mask,cv2.MORPH_OPEN,kernel, iterations = 3)\n",
    "plt.imshow(opening,cmap='gray')"
   ]
  },
  {
   "cell_type": "code",
   "execution_count": null,
   "metadata": {},
   "outputs": [],
   "source": [
    "# Finding sure background area\n",
    "sure_bg = cv2.dilate(opening,kernel,iterations=1)\n",
    "plt.imshow(sure_bg,cmap='gray')"
   ]
  },
  {
   "cell_type": "code",
   "execution_count": null,
   "metadata": {},
   "outputs": [],
   "source": [
    "# Finding sure foreground area\n",
    "dist_transform = cv2.distanceTransform(opening,cv2.DIST_L2,5)\n",
    "ret, sure_fg = cv2.threshold(dist_transform,0.5*dist_transform.max(),255,0)\n",
    "plt.imshow(sure_fg,cmap='gray')"
   ]
  },
  {
   "cell_type": "code",
   "execution_count": null,
   "metadata": {},
   "outputs": [],
   "source": [
    "# Marker labelling\n",
    "ret, markers = cv2.connectedComponents(sure_fg)\n",
    "# Finally, the maximum label in markers correponds to the number of cells\n",
    "num_cells = markers.max()\n",
    "print(f\"number of cells: {num_cells}\") # this agrees with our count by hand\n",
    "\n",
    "# The total area (in pixel units) will be the total sum of pixels in the mask\n",
    "total_area = np.sum(mask)\n",
    "\n",
    "print(f\"average area per cell: {total_area/num_cells:.3f} (pixels)\") "
   ]
  },
  {
   "cell_type": "code",
   "execution_count": null,
   "metadata": {},
   "outputs": [],
   "source": [
    "# Create a copy of the original image for the tinted overlay\n",
    "tinted_image = img.copy()\n",
    "\n",
    "# Define the color (blue in BGR) and an alpha for the tint intensity\n",
    "blue_color = np.array([0, 0, 255], dtype=np.uint8)  \n",
    "alpha = 0.5  # blending factor for how strong the tint will be\n",
    "\n",
    "tinted_image[mask>0] = (\n",
    "    alpha * tinted_image[mask>0] + (1 - alpha) * blue_color\n",
    ").astype(np.uint8)\n",
    "\n",
    "plt.imshow(tinted_image)\n",
    "plt.show()"
   ]
  }
 ],
 "metadata": {
  "kernelspec": {
   "display_name": ".venv",
   "language": "python",
   "name": "python3"
  },
  "language_info": {
   "codemirror_mode": {
    "name": "ipython",
    "version": 3
   },
   "file_extension": ".py",
   "mimetype": "text/x-python",
   "name": "python",
   "nbconvert_exporter": "python",
   "pygments_lexer": "ipython3",
   "version": "3.8.10"
  }
 },
 "nbformat": 4,
 "nbformat_minor": 2
}
